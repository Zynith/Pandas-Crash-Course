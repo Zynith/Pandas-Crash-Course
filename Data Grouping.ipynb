{
 "cells": [
  {
   "cell_type": "markdown",
   "id": "e689697c-3369-43d3-a126-beec5924d3ce",
   "metadata": {},
   "source": [
    "# <en><center>Data Grouping</center></en>"
   ]
  },
  {
   "cell_type": "markdown",
   "id": "0dfd77d8-0b13-4a24-b47b-d19a10a2e43b",
   "metadata": {},
   "source": [
    "## Table of Contents"
   ]
  },
  {
   "cell_type": "code",
   "execution_count": null,
   "id": "7aa199dc-cebb-4405-b49c-40471754fe69",
   "metadata": {},
   "outputs": [],
   "source": []
  }
 ],
 "metadata": {
  "kernelspec": {
   "display_name": "Python 3 (ipykernel)",
   "language": "python",
   "name": "python3"
  },
  "language_info": {
   "codemirror_mode": {
    "name": "ipython",
    "version": 3
   },
   "file_extension": ".py",
   "mimetype": "text/x-python",
   "name": "python",
   "nbconvert_exporter": "python",
   "pygments_lexer": "ipython3",
   "version": "3.9.12"
  }
 },
 "nbformat": 4,
 "nbformat_minor": 5
}
